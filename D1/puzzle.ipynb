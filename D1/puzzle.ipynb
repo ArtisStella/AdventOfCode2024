{
 "cells": [
  {
   "cell_type": "code",
   "execution_count": 2,
   "metadata": {},
   "outputs": [],
   "source": [
    "leftList = []\n",
    "rightList = []\n",
    "\n",
    "with open(\"input.txt\") as inFile:  \n",
    "  for line in inFile.readlines():\n",
    "    nums = line.split(\"   \")\n",
    "    leftList.append(int(nums[0]))\n",
    "    rightList.append(int(nums[1]))\n",
    "\n",
    "leftList = sorted(leftList)\n",
    "rightList = sorted(rightList)\n"
   ]
  },
  {
   "cell_type": "code",
   "execution_count": 3,
   "metadata": {},
   "outputs": [
    {
     "data": {
      "text/plain": [
       "2264607"
      ]
     },
     "execution_count": 3,
     "metadata": {},
     "output_type": "execute_result"
    }
   ],
   "source": [
    "# Puzzle 1\n",
    "result = []\n",
    "\n",
    "for i in range(len(leftList)):\n",
    "  left = leftList[i]\n",
    "  right = rightList[i]\n",
    "  result.append(abs(left - right))\n",
    "\n",
    "sum(result)"
   ]
  },
  {
   "cell_type": "code",
   "execution_count": null,
   "metadata": {},
   "outputs": [
    {
     "name": "stdout",
     "output_type": "stream",
     "text": [
      "19457120\n"
     ]
    }
   ],
   "source": [
    "# Puzzle 2\n",
    "result = []\n",
    "\n",
    "for num in leftList:\n",
    "  multiplier = rightList.count(num)\n",
    "  result.append(num * multiplier)\n",
    "  \n",
    "print(sum(result))"
   ]
  }
 ],
 "metadata": {
  "kernelspec": {
   "display_name": "Python 3",
   "language": "python",
   "name": "python3"
  },
  "language_info": {
   "codemirror_mode": {
    "name": "ipython",
    "version": 3
   },
   "file_extension": ".py",
   "mimetype": "text/x-python",
   "name": "python",
   "nbconvert_exporter": "python",
   "pygments_lexer": "ipython3",
   "version": "3.12.0"
  }
 },
 "nbformat": 4,
 "nbformat_minor": 2
}
