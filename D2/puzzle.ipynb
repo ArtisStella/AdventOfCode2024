{
 "cells": [
  {
   "cell_type": "code",
   "execution_count": 32,
   "metadata": {},
   "outputs": [],
   "source": [
    "reports = []\n",
    "\n",
    "with open(\"input.txt\") as inFile:\n",
    "  reports = inFile.readlines()\n"
   ]
  },
  {
   "cell_type": "code",
   "execution_count": 36,
   "metadata": {},
   "outputs": [],
   "source": [
    "def isSafe(nums):\n",
    "    sortedAsc = sorted(nums)\n",
    "    sortedDesc = sorted(nums, reverse=True)\n",
    "    if sortedAsc == nums or sortedDesc == nums:\n",
    "        for i in range(len(nums) - 1):\n",
    "            diff = abs(sortedAsc[i] - sortedAsc[i + 1])\n",
    "            if diff < 1 or diff > 3:\n",
    "                break\n",
    "        else: \n",
    "            return True\n",
    "    return False"
   ]
  },
  {
   "cell_type": "code",
   "execution_count": 38,
   "metadata": {},
   "outputs": [
    {
     "data": {
      "text/plain": [
       "585"
      ]
     },
     "execution_count": 38,
     "metadata": {},
     "output_type": "execute_result"
    }
   ],
   "source": [
    "safeCount = 0\n",
    "\n",
    "for report in reports:\n",
    "    nums = [int(num) for num in report.split()]\n",
    "    if isSafe(nums):\n",
    "        safeCount += 1\n",
    "\n",
    "safeCount"
   ]
  },
  {
   "cell_type": "code",
   "execution_count": 37,
   "metadata": {},
   "outputs": [
    {
     "data": {
      "text/plain": [
       "626"
      ]
     },
     "execution_count": 37,
     "metadata": {},
     "output_type": "execute_result"
    }
   ],
   "source": [
    "safeCount = 0\n",
    "\n",
    "for report in reports:\n",
    "    nums = [int(num) for num in report.split()]\n",
    "    if isSafe(nums):\n",
    "        safeCount += 1\n",
    "        continue\n",
    "    \n",
    "    for i in range(len(report)):\n",
    "        modified = nums[:i] + nums[i+1:]\n",
    "        if isSafe(modified):\n",
    "            safeCount += 1\n",
    "            break\n",
    "\n",
    "    \n",
    "\n",
    "safeCount"
   ]
  }
 ],
 "metadata": {
  "kernelspec": {
   "display_name": "Python 3",
   "language": "python",
   "name": "python3"
  },
  "language_info": {
   "codemirror_mode": {
    "name": "ipython",
    "version": 3
   },
   "file_extension": ".py",
   "mimetype": "text/x-python",
   "name": "python",
   "nbconvert_exporter": "python",
   "pygments_lexer": "ipython3",
   "version": "3.12.0"
  }
 },
 "nbformat": 4,
 "nbformat_minor": 2
}
